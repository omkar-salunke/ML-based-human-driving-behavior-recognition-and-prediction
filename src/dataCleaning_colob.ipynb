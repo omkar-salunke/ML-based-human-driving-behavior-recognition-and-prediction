{
  "nbformat": 4,
  "nbformat_minor": 0,
  "metadata": {
    "kernelspec": {
      "display_name": "Python 3",
      "language": "python",
      "name": "python3"
    },
    "language_info": {
      "codemirror_mode": {
        "name": "ipython",
        "version": 3
      },
      "file_extension": ".py",
      "mimetype": "text/x-python",
      "name": "python",
      "nbconvert_exporter": "python",
      "pygments_lexer": "ipython3",
      "version": "3.6.3"
    },
    "colab": {
      "name": "dataCleaning.ipynb",
      "provenance": []
    }
  },
  "cells": [
    {
      "cell_type": "markdown",
      "metadata": {
        "id": "1XiHdHlekLrj",
        "colab_type": "text"
      },
      "source": [
        "# TEST"
      ]
    },
    {
      "cell_type": "code",
      "metadata": {
        "id": "o062XiSxkLrl",
        "colab_type": "code",
        "colab": {}
      },
      "source": [
        "import json\n",
        "import numpy as np\n",
        "import pandas as pd\n",
        "b = json.load(open('pcap1out/280.json'))\n",
        "str(b)"
      ],
      "execution_count": null,
      "outputs": []
    },
    {
      "cell_type": "code",
      "metadata": {
        "id": "p0LWttGpkLrs",
        "colab_type": "code",
        "colab": {}
      },
      "source": [
        "df = pd.io.json.read_json('pcap1out/280.json')\n",
        "df['bounding boxes'][0]['center']['x']"
      ],
      "execution_count": null,
      "outputs": []
    },
    {
      "cell_type": "code",
      "metadata": {
        "id": "3S92ZqBwkLry",
        "colab_type": "code",
        "colab": {}
      },
      "source": [
        "def getid(df):\n",
        "    return df['object_id']\n",
        "getid = np.vectorize(getid)\n",
        "def getFeature(df):\n",
        "    return str((df['center']['x'], df['center']['y'], df['width'], df['length'], df['angle']))\n",
        "getFeature = np.vectorize(getFeature)\n"
      ],
      "execution_count": null,
      "outputs": []
    },
    {
      "cell_type": "code",
      "metadata": {
        "id": "589N__jvkLr1",
        "colab_type": "code",
        "colab": {}
      },
      "source": [
        "cid = getid(df)\n",
        "cid"
      ],
      "execution_count": null,
      "outputs": []
    },
    {
      "cell_type": "code",
      "metadata": {
        "id": "WrNUY0KZkLr5",
        "colab_type": "code",
        "colab": {}
      },
      "source": [
        "cFeature = getFeature(df)\n",
        "cFeature"
      ],
      "execution_count": null,
      "outputs": []
    },
    {
      "cell_type": "code",
      "metadata": {
        "id": "Mf6FG328kLr9",
        "colab_type": "code",
        "colab": {}
      },
      "source": [
        "len(df)"
      ],
      "execution_count": null,
      "outputs": []
    },
    {
      "cell_type": "code",
      "metadata": {
        "id": "BMf1z-StkLsA",
        "colab_type": "code",
        "colab": {}
      },
      "source": [
        "cTime = np.repeat(280, len(df)).reshape(len(df), 1)\n",
        "cTime"
      ],
      "execution_count": null,
      "outputs": []
    },
    {
      "cell_type": "code",
      "metadata": {
        "id": "dDP-f_tqkLsG",
        "colab_type": "code",
        "colab": {}
      },
      "source": [
        "pd.DataFrame(np.hstack([cid, cFeature, cTime]))"
      ],
      "execution_count": null,
      "outputs": []
    },
    {
      "cell_type": "code",
      "metadata": {
        "id": "3itrDgdmkLsK",
        "colab_type": "code",
        "colab": {}
      },
      "source": [
        "import os\n",
        "os.listdir('pcap1out')[0].replace('.json','')"
      ],
      "execution_count": null,
      "outputs": []
    },
    {
      "cell_type": "code",
      "metadata": {
        "id": "ebCqp1zikLsN",
        "colab_type": "code",
        "colab": {}
      },
      "source": [
        "dataMats = []\n",
        "fileids = np.sort([int(i.replace('.json', '')) for i in os.listdir('pcap1out')])\n",
        "for fileid in fileids:\n",
        "    filename = str(fileid) + '.json'\n",
        "    frame = pd.io.json.read_json('pcap1out' + '/' + filename)\n",
        "    carid = getid(frame)\n",
        "    carFeature = getFeature(frame)\n",
        "    carTime = np.repeat(fileid, len(frame)).reshape(len(frame), 1)\n",
        "    datamat = np.hstack([carid, carFeature, carTime])\n",
        "    dataMats += [datamat]"
      ],
      "execution_count": null,
      "outputs": []
    },
    {
      "cell_type": "code",
      "metadata": {
        "id": "aKbkhfkskLsQ",
        "colab_type": "code",
        "colab": {}
      },
      "source": [
        "df = pd.DataFrame(np.vstack(dataMats))\n",
        "df.columns = ['ID', 'Feature', 'Time']\n",
        "df = df.sort_values(['ID', 'Time']).reset_index(drop=True)\n",
        "df"
      ],
      "execution_count": null,
      "outputs": []
    },
    {
      "cell_type": "markdown",
      "metadata": {
        "id": "PIVaMDaGkLsT",
        "colab_type": "text"
      },
      "source": [
        "# Start from here..."
      ]
    },
    {
      "cell_type": "code",
      "metadata": {
        "id": "BOnB4NqKkLsU",
        "colab_type": "code",
        "colab": {}
      },
      "source": [
        "from utils import *"
      ],
      "execution_count": null,
      "outputs": []
    },
    {
      "cell_type": "code",
      "metadata": {
        "id": "WIsx5PeCkLsX",
        "colab_type": "code",
        "colab": {}
      },
      "source": [
        "csv2bin(\"/Users/franklin/Desktop/CS289/Data_HM/raw_data/pcap**/\")"
      ],
      "execution_count": null,
      "outputs": []
    },
    {
      "cell_type": "code",
      "metadata": {
        "id": "G8CUJRQZkLsa",
        "colab_type": "code",
        "colab": {}
      },
      "source": [
        "df = convertData('pcap2out')"
      ],
      "execution_count": null,
      "outputs": []
    },
    {
      "cell_type": "code",
      "metadata": {
        "id": "LyPW7ELWkLse",
        "colab_type": "code",
        "colab": {}
      },
      "source": [
        "df.to_csv('pcap2.csv')"
      ],
      "execution_count": null,
      "outputs": []
    },
    {
      "cell_type": "code",
      "metadata": {
        "id": "jvS2_BIPkLsg",
        "colab_type": "code",
        "colab": {}
      },
      "source": [
        "df"
      ],
      "execution_count": null,
      "outputs": []
    }
  ]
}