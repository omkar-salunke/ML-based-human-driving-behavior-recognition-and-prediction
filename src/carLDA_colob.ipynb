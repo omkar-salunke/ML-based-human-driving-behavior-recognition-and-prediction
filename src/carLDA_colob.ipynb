{
  "nbformat": 4,
  "nbformat_minor": 0,
  "metadata": {
    "kernelspec": {
      "display_name": "Python 3",
      "language": "python",
      "name": "python3"
    },
    "language_info": {
      "codemirror_mode": {
        "name": "ipython",
        "version": 3
      },
      "file_extension": ".py",
      "mimetype": "text/x-python",
      "name": "python",
      "nbconvert_exporter": "python",
      "pygments_lexer": "ipython3",
      "version": "3.6.3"
    },
    "colab": {
      "name": "carLDA.ipynb",
      "provenance": []
    }
  },
  "cells": [
    {
      "cell_type": "code",
      "metadata": {
        "id": "5N3RQuy4nw00",
        "colab_type": "code",
        "colab": {}
      },
      "source": [
        "import pandas as pd\n",
        "import numpy as np\n",
        "import matplotlib.pyplot as plt\n",
        "%matplotlib inline\n",
        "import matplotlib\n",
        "import seaborn as sns\n",
        "\n",
        "# machine learning\n",
        "\n",
        "from sklearn import metrics\n",
        "from sklearn.model_selection import train_test_split\n",
        "from sklearn.linear_model import LogisticRegression\n",
        "from sklearn.svm import SVC, LinearSVC\n",
        "from sklearn.ensemble import RandomForestClassifier\n",
        "from sklearn.neighbors import KNeighborsClassifier\n",
        "from sklearn.naive_bayes import GaussianNB # Gaussian Naive Bays\n",
        "from sklearn.linear_model import Perceptron\n",
        "from sklearn.linear_model import SGDClassifier #stochastic gradient descent\n",
        "from sklearn.tree import DecisionTreeClassifier\n",
        "from sklearn.utils import resample\n",
        "from sklearn.metrics import confusion_matrix\n",
        "from sklearn.tree import export_graphviz\n",
        "from sklearn.metrics import roc_auc_score\n",
        "from sklearn.metrics import accuracy_score\n",
        "import lightgbm\n",
        "from lightgbm import LGBMRegressor\n",
        "from lightgbm import LGBMClassifier\n",
        "import xgboost as xgb\n",
        "from sklearn.discriminant_analysis import LinearDiscriminantAnalysis as LDA\n",
        "from sklearn.discriminant_analysis import QuadraticDiscriminantAnalysis as QDA\n",
        "from sklearn.cluster import KMeans\n",
        "from sklearn.ensemble import GradientBoostingClassifier\n",
        "from sklearn.metrics import classification_report\n",
        "from sklearn.grid_search import GridSearchCV\n",
        "\n",
        "\n",
        "# Additional tweaking\n",
        "import warnings\n",
        "warnings.filterwarnings('ignore') # Filter out warnings\n",
        "\n",
        "#sns.set(style='white', context='notebook', palette='deep')\n",
        "plt.rcParams[ 'figure.figsize' ] = 9 , 5"
      ],
      "execution_count": null,
      "outputs": []
    },
    {
      "cell_type": "code",
      "metadata": {
        "id": "bOcm1dexnw05",
        "colab_type": "code",
        "colab": {}
      },
      "source": [
        "traj1 = np.load('traj_tensor_1.npy')\n",
        "traj2 = np.load('traj_tensor_2.npy')\n",
        "train1 = traj1[:,:,:7302]\n",
        "test1 = traj1[:,:,7302:]\n",
        "train2 = traj2[:,:,:6456]\n",
        "test2 = traj2[:,:,6456:]"
      ],
      "execution_count": null,
      "outputs": []
    },
    {
      "cell_type": "code",
      "metadata": {
        "scrolled": true,
        "id": "KvKL4__Wnw08",
        "colab_type": "code",
        "colab": {}
      },
      "source": [
        "for i in range(10000):\n",
        "    if traj1[0][0][i] > 100:\n",
        "        print(i)\n",
        "        break\n",
        "i"
      ],
      "execution_count": null,
      "outputs": []
    },
    {
      "cell_type": "code",
      "metadata": {
        "id": "5LrrkqBSnw0_",
        "colab_type": "code",
        "colab": {}
      },
      "source": [
        "train = np.concatenate((train1,train2),axis = 2 )\n",
        "test = np.concatenate((test1,test2),axis = 2 )"
      ],
      "execution_count": null,
      "outputs": []
    },
    {
      "cell_type": "code",
      "metadata": {
        "id": "F8UAA-MPnw1D",
        "colab_type": "code",
        "colab": {}
      },
      "source": [
        "y_train = train[:,15,:]\n",
        "y_test = test[:,15,:]\n",
        "\n",
        "x_train = np.delete(train, [0,1,10,15], axis=1)\n",
        "x_test = np.delete(test, [0,1,10,15], axis=1)"
      ],
      "execution_count": null,
      "outputs": []
    },
    {
      "cell_type": "code",
      "metadata": {
        "scrolled": false,
        "id": "A_cptzSrnw1G",
        "colab_type": "code",
        "colab": {}
      },
      "source": [
        "y_train = y_train[0].reshape((y_train.shape[1],1))\n",
        "y_test = y_test[0].reshape((y_test.shape[1],1))\n",
        "\n",
        "x_train = x_train.reshape((x_train.shape[1]*20,x_train.shape[2]))\n",
        "x_train = np.transpose(x_train)\n",
        "x_test = x_test.reshape((x_test.shape[1]*20,x_test.shape[2]))\n",
        "x_test = np.transpose(x_test)"
      ],
      "execution_count": null,
      "outputs": []
    },
    {
      "cell_type": "code",
      "metadata": {
        "scrolled": true,
        "id": "rJt0Csnunw1J",
        "colab_type": "code",
        "colab": {}
      },
      "source": [
        "x_train = pd.DataFrame(x_train)\n",
        "x_test\n",
        "x_test = pd.DataFrame(x_test)\n",
        "x_test.head(10)"
      ],
      "execution_count": null,
      "outputs": []
    },
    {
      "cell_type": "code",
      "metadata": {
        "scrolled": true,
        "id": "afd-pw7-nw1M",
        "colab_type": "code",
        "colab": {}
      },
      "source": [
        "x_train,_, y_train, _ = train_test_split(x_train, y_train, test_size=0, random_state=42)\n",
        "x_test,_, y_test,_  = train_test_split(x_test, y_test, test_size=0, random_state=42)"
      ],
      "execution_count": null,
      "outputs": []
    },
    {
      "cell_type": "code",
      "metadata": {
        "id": "ymtJmBY2nw1P",
        "colab_type": "code",
        "colab": {}
      },
      "source": [
        "# from sklearn.preprocessing import StandardScaler\n",
        "# scaler = StandardScaler()\n",
        "# scaler.fit(x_train)\n",
        "# x_train = scaler.transform(x_train)\n",
        "# x_test = scaler.transform(x_test)"
      ],
      "execution_count": null,
      "outputs": []
    },
    {
      "cell_type": "code",
      "metadata": {
        "id": "NKqygG7-nw1S",
        "colab_type": "code",
        "colab": {}
      },
      "source": [
        "D=[]\n",
        "i=0\n",
        "#K-means\n",
        "kmeans = KMeans(n_clusters=2, random_state=0,max_iter = 500).fit(x_train,y_train)\n",
        "training_accuracy = metrics.accuracy_score(y_train,kmeans.predict(x_train))\n",
        "a = round(training_accuracy* 100, 8)\n",
        "testing_accuracy = metrics.accuracy_score(y_test,kmeans.predict(x_test))\n",
        "b = round(testing_accuracy * 100, 8)\n",
        "i = 'Kmeans'\n",
        "D.append([i, a, b])\n",
        "\n",
        " # QDA\n",
        "qda = QDA()\n",
        "qda.fit(x_train, y_train)\n",
        "training_accuracy = qda.score(x_train,y_train)\n",
        "a = round( training_accuracy* 100, 8)\n",
        "testing_accuracy=qda.score(x_test,y_test)\n",
        "b = round(testing_accuracy * 100, 8)\n",
        "i = 'QDA'\n",
        "D.append([i, a, b])\n",
        "\n",
        "#LDA\n",
        "# lda = LDA(store_covariance=True)\n",
        "lda = LDA()\n",
        "lda.fit(x_train, y_train)\n",
        "training_accuracy = lda.score(x_train,y_train)\n",
        "a = round( training_accuracy* 100, 8)\n",
        "testing_accuracy=lda.score(x_test,y_test)\n",
        "b = round(testing_accuracy * 100, 8)\n",
        "i = 'LDA'\n",
        "D.append([i, a, b])\n"
      ],
      "execution_count": null,
      "outputs": []
    },
    {
      "cell_type": "code",
      "metadata": {
        "id": "gzCL4yznnw1V",
        "colab_type": "code",
        "colab": {}
      },
      "source": [
        "D"
      ],
      "execution_count": null,
      "outputs": []
    },
    {
      "cell_type": "code",
      "metadata": {
        "id": "9A9SfJUNnw1Y",
        "colab_type": "code",
        "colab": {}
      },
      "source": [
        "\n",
        "# Logistic Regression\n",
        "logreg = LogisticRegression()\n",
        "logreg.fit(x_train, y_train)\n",
        "Y_pred = logreg.predict(x_test)\n",
        "training_accuracy=logreg.score(x_train,y_train)\n",
        "a = round( training_accuracy* 100, 8)\n",
        "testing_accuracy=logreg.score(x_test,y_test)\n",
        "b = round(testing_accuracy * 100, 8)\n",
        "i = 'Lofistic Regression'\n",
        "D.append([i, a, b])\n",
        "y_lr_train = logreg.predict(x_train)\n",
        "y_lr_test = Y_pred\n",
        "print('a')\n",
        "\n",
        "# # Support Vector Machines\n",
        "# svc = SVC(kernel='rbf',probability=True)\n",
        "# svc.fit(x_train, y_train)\n",
        "# Y_pred = svc.predict(x_test)\n",
        "# training_accuracy=svc.score(x_train,y_train)\n",
        "# a = round( training_accuracy* 100, 8)\n",
        "# testing_accuracy=svc.score(x_test,y_test)\n",
        "# b = round(testing_accuracy * 100, 8)\n",
        "# i = 'SVM'\n",
        "# D.append([i, a, b])\n",
        "# print('b')\n",
        "\n",
        "# # Perceptron\n",
        "# perceptron = Perceptron()\n",
        "# perceptron.fit(x_train, y_train)\n",
        "# Y_pred = perceptron.predict(x_test)\n",
        "# training_accuracy=perceptron.score(x_train,y_train)\n",
        "# a = round( training_accuracy* 100, 8)\n",
        "# testing_accuracy=perceptron.score(x_test,y_test)\n",
        "# b = round(testing_accuracy * 100, 8)\n",
        "# i = 'perceptron'\n",
        "# D.append([i, a, b])\n",
        "\n",
        "# # KNN\n",
        "# knn = KNeighborsClassifier(n_neighbors = 3)\n",
        "# knn.fit(x_train, y_train)\n",
        "# Y_pred = knn.predict(x_test)\n",
        "# training_accuracy=knn.score(x_train, y_train)\n",
        "# a = round( training_accuracy* 100, 8)\n",
        "# testing_accuracy=knn.score(x_test,y_test)\n",
        "# b = round(testing_accuracy * 100, 8)\n",
        "# i = 'KNN'\n",
        "# D.append([i, a, b])\n",
        "\n"
      ],
      "execution_count": null,
      "outputs": []
    },
    {
      "cell_type": "code",
      "metadata": {
        "id": "yHPGkmU5nw1b",
        "colab_type": "code",
        "colab": {}
      },
      "source": [
        "D"
      ],
      "execution_count": null,
      "outputs": []
    },
    {
      "cell_type": "code",
      "metadata": {
        "id": "Jsc5dhYCnw1e",
        "colab_type": "code",
        "colab": {}
      },
      "source": [
        "\n",
        "\n",
        "# XGBoost\n",
        "gradboost = xgb.XGBClassifier(n_estimators=500)\n",
        "gradboost.fit(x_train, y_train)\n",
        "Y_pred = gradboost.predict(x_test)\n",
        "training_accuracy=gradboost.score(x_train,y_train)\n",
        "a = round( training_accuracy* 100, 8)\n",
        "testing_accuracy=gradboost.score(x_test,y_test)\n",
        "b = round(testing_accuracy * 100, 8)\n",
        "i = 'XGBoost'\n",
        "D.append([i, a, b])\n",
        "\n",
        "\n",
        "\n",
        "# Random Forest\n",
        "random_forest = RandomForestClassifier(n_estimators=500)\n",
        "random_forest.fit(x_train, y_train)\n",
        "Y_pred = random_forest.predict(x_test)\n",
        "random_forest.score(x_train, y_train)\n",
        "training_accuracy=random_forest.score(x_train,y_train)\n",
        "a = round( training_accuracy* 100, 8)\n",
        "testing_accuracy=random_forest.score(x_test,y_test)\n",
        "b = round(testing_accuracy * 100, 8)\n",
        "i = 'Random Forest'\n",
        "D.append([i, a, b])\n",
        "\n",
        "\n",
        "\n",
        "#gbm\n",
        "gbm = GradientBoostingClassifier(learning_rate=0.1, n_estimators=500,max_depth=3, min_samples_split=2, min_samples_leaf=1, subsample=1,max_features='sqrt', random_state=10)\n",
        "gbm.fit(x_train,y_train)\n",
        "training_accuracy=gbm.score(x_train,y_train)\n",
        "a = round( training_accuracy* 100, 8)\n",
        "testing_accuracy=gbm.score(x_test,y_test)\n",
        "b = round(testing_accuracy * 100, 8)\n",
        "i = 'Gradient boosting'\n",
        "D.append([i, a, b])\n",
        "\n",
        "\n",
        "#LightGBM classifier\n",
        "\n",
        "lgbm = LGBMClassifier(boosting_type='gbdt',num_iteration=500)\n",
        "lgbm.fit(x_train, y_train)\n",
        "training_accuracy = lgbm.score(x_train,y_train)\n",
        "a = round( training_accuracy* 100, 8)\n",
        "testing_accuracy = lgbm.score(x_test,y_test)\n",
        "b = round(testing_accuracy * 100, 8)\n",
        "i = 'Light GBM'\n",
        "D.append([i, a, b])\n",
        "\n"
      ],
      "execution_count": null,
      "outputs": []
    },
    {
      "cell_type": "code",
      "metadata": {
        "scrolled": false,
        "id": "JMiY0Mhwnw1g",
        "colab_type": "code",
        "colab": {}
      },
      "source": [
        "D"
      ],
      "execution_count": null,
      "outputs": []
    },
    {
      "cell_type": "code",
      "metadata": {
        "id": "7xB13dr1nw1o",
        "colab_type": "code",
        "colab": {}
      },
      "source": [
        "df = pd.DataFrame(D)"
      ],
      "execution_count": null,
      "outputs": []
    },
    {
      "cell_type": "code",
      "metadata": {
        "id": "zJpEgpvZnw1q",
        "colab_type": "code",
        "colab": {}
      },
      "source": [
        "df"
      ],
      "execution_count": null,
      "outputs": []
    },
    {
      "cell_type": "code",
      "metadata": {
        "id": "OFCsMUC8nw1w",
        "colab_type": "code",
        "colab": {}
      },
      "source": [
        "for i in range(10000):\n",
        "    if test[0][0][i] > 104:\n",
        "        print(i)\n",
        "        break"
      ],
      "execution_count": null,
      "outputs": []
    },
    {
      "cell_type": "code",
      "metadata": {
        "id": "uLkVC0a5nw1z",
        "colab_type": "code",
        "colab": {}
      },
      "source": [
        "new = test[:,:,:120]\n",
        "\n",
        "y_new = new[:,15,:]\n",
        "x_new = np.delete(new, [0,1,10,15], axis=1)\n",
        "\n",
        "y_new = y_new[0].reshape((y_new.shape[1],1))\n",
        "\n",
        "x_new = x_new.reshape((x_new.shape[1]*20,x_new.shape[2]))\n",
        "x_new = np.transpose(x_new)\n",
        "\n",
        "\n",
        "\n",
        "lda_pro = lda.predict_proba(x_new)\n",
        "qda_pro = qda.predict_proba(x_new)\n",
        "logreg_pro = logreg.predict_proba(x_new)\n",
        "# svc_pro = svc.predict_proba(x_new)\n",
        "random_forest_pro = random_forest.predict_proba(x_new)\n",
        "lgbm_pro = lgbm.predict_proba(x_new)\n",
        "\n",
        "plt.figure(figsize=(12,8))\n",
        "plt.ylim(ymin=0,ymax=1.1)\n",
        "plt.plot(lda_pro[:,0],label = \"LDA\" )\n",
        "plt.plot(qda_pro[:,0],label = \"QDA\" )\n",
        "plt.plot(logreg_pro[:,0],label = \"LR\" )\n",
        "plt.plot(lgbm_pro[:,0],label = \"LGBM\" )\n",
        "plt.plot(random_forest_pro[:,0],label = \"RF\" )\n",
        "plt.title('Prediction Results in One Trajectory (true label:1)')\n",
        "plt.legend()\n",
        "\n"
      ],
      "execution_count": null,
      "outputs": []
    }
  ]
}