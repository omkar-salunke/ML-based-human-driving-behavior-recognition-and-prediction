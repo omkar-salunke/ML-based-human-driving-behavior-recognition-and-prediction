{
  "nbformat": 4,
  "nbformat_minor": 0,
  "metadata": {
    "kernelspec": {
      "display_name": "Python 2",
      "language": "python",
      "name": "python2"
    },
    "language_info": {
      "codemirror_mode": {
        "name": "ipython",
        "version": 2
      },
      "file_extension": ".py",
      "mimetype": "text/x-python",
      "name": "python",
      "nbconvert_exporter": "python",
      "pygments_lexer": "ipython2",
      "version": "2.7.14"
    },
    "colab": {
      "name": "hmm_merging.ipynb",
      "provenance": []
    }
  },
  "cells": [
    {
      "cell_type": "code",
      "metadata": {
        "id": "kqx5iLL7pvw0",
        "colab_type": "code",
        "colab": {
          "base_uri": "https://localhost:8080/",
          "height": 134
        },
        "outputId": "c02bfc04-e068-4ccb-ff44-95b2902e109d"
      },
      "source": [
        "!git clone https://github.com/omkar-salunke/ML-based-human-driving-behavior-recognition-and-prediction.git"
      ],
      "execution_count": 1,
      "outputs": [
        {
          "output_type": "stream",
          "text": [
            "Cloning into 'ML-based-human-driving-behavior-recognition-and-prediction'...\n",
            "remote: Enumerating objects: 8, done.\u001b[K\n",
            "remote: Counting objects:  12% (1/8)\u001b[K\rremote: Counting objects:  25% (2/8)\u001b[K\rremote: Counting objects:  37% (3/8)\u001b[K\rremote: Counting objects:  50% (4/8)\u001b[K\rremote: Counting objects:  62% (5/8)\u001b[K\rremote: Counting objects:  75% (6/8)\u001b[K\rremote: Counting objects:  87% (7/8)\u001b[K\rremote: Counting objects: 100% (8/8)\u001b[K\rremote: Counting objects: 100% (8/8), done.\u001b[K\n",
            "remote: Compressing objects:  12% (1/8)\u001b[K\rremote: Compressing objects:  25% (2/8)\u001b[K\rremote: Compressing objects:  37% (3/8)\u001b[K\rremote: Compressing objects:  50% (4/8)\u001b[K\rremote: Compressing objects:  62% (5/8)\u001b[K\rremote: Compressing objects:  75% (6/8)\u001b[K\rremote: Compressing objects:  87% (7/8)\u001b[K\rremote: Compressing objects: 100% (8/8)\u001b[K\rremote: Compressing objects: 100% (8/8), done.\u001b[K\n",
            "Receiving objects:   0% (1/1844)   \rReceiving objects:   1% (19/1844)   \rReceiving objects:   2% (37/1844)   \rReceiving objects:   3% (56/1844)   \rReceiving objects:   4% (74/1844)   \rReceiving objects:   5% (93/1844)   \rReceiving objects:   6% (111/1844)   \rReceiving objects:   7% (130/1844)   \rReceiving objects:   8% (148/1844)   \rReceiving objects:   9% (166/1844)   \rReceiving objects:  10% (185/1844)   \rReceiving objects:  11% (203/1844)   \rReceiving objects:  12% (222/1844)   \rReceiving objects:  13% (240/1844)   \rReceiving objects:  14% (259/1844)   \rReceiving objects:  15% (277/1844)   \rReceiving objects:  16% (296/1844)   \rReceiving objects:  17% (314/1844)   \rReceiving objects:  18% (332/1844)   \rReceiving objects:  19% (351/1844)   \rReceiving objects:  20% (369/1844)   \rReceiving objects:  21% (388/1844)   \rReceiving objects:  22% (406/1844)   \rReceiving objects:  23% (425/1844)   \rReceiving objects:  24% (443/1844)   \rReceiving objects:  25% (461/1844)   \rReceiving objects:  26% (480/1844)   \rReceiving objects:  27% (498/1844)   \rReceiving objects:  28% (517/1844)   \rReceiving objects:  29% (535/1844)   \rReceiving objects:  30% (554/1844)   \rReceiving objects:  31% (572/1844)   \rReceiving objects:  32% (591/1844)   \rReceiving objects:  33% (609/1844)   \rReceiving objects:  34% (627/1844)   \rReceiving objects:  35% (646/1844)   \rReceiving objects:  36% (664/1844)   \rReceiving objects:  37% (683/1844)   \rReceiving objects:  38% (701/1844)   \rReceiving objects:  39% (720/1844)   \rReceiving objects:  40% (738/1844)   \rReceiving objects:  41% (757/1844)   \rReceiving objects:  42% (775/1844)   \rReceiving objects:  43% (793/1844)   \rReceiving objects:  44% (812/1844)   \rReceiving objects:  45% (830/1844)   \rReceiving objects:  46% (849/1844)   \rReceiving objects:  47% (867/1844)   \rReceiving objects:  48% (886/1844)   \rReceiving objects:  49% (904/1844)   \rReceiving objects:  50% (922/1844)   \rReceiving objects:  51% (941/1844)   \rReceiving objects:  52% (959/1844)   \rReceiving objects:  53% (978/1844)   \rReceiving objects:  54% (996/1844)   \rReceiving objects:  55% (1015/1844)   \rReceiving objects:  56% (1033/1844)   \rReceiving objects:  57% (1052/1844)   \rReceiving objects:  58% (1070/1844)   \rReceiving objects:  59% (1088/1844)   \rReceiving objects:  60% (1107/1844)   \rReceiving objects:  61% (1125/1844)   \rReceiving objects:  62% (1144/1844)   \rReceiving objects:  63% (1162/1844)   \rReceiving objects:  64% (1181/1844)   \rReceiving objects:  65% (1199/1844)   \rReceiving objects:  66% (1218/1844)   \rReceiving objects:  67% (1236/1844)   \rReceiving objects:  68% (1254/1844)   \rReceiving objects:  69% (1273/1844)   \rReceiving objects:  70% (1291/1844)   \rReceiving objects:  71% (1310/1844)   \rReceiving objects:  72% (1328/1844)   \rReceiving objects:  73% (1347/1844)   \rReceiving objects:  74% (1365/1844)   \rReceiving objects:  75% (1383/1844)   \rReceiving objects:  76% (1402/1844)   \rReceiving objects:  77% (1420/1844)   \rReceiving objects:  78% (1439/1844)   \rReceiving objects:  79% (1457/1844)   \rReceiving objects:  80% (1476/1844)   \rReceiving objects:  81% (1494/1844)   \rReceiving objects:  82% (1513/1844)   \rReceiving objects:  83% (1531/1844)   \rReceiving objects:  84% (1549/1844), 10.70 MiB | 21.38 MiB/s   \rReceiving objects:  85% (1568/1844), 10.70 MiB | 21.38 MiB/s   \rReceiving objects:  86% (1586/1844), 10.70 MiB | 21.38 MiB/s   \rReceiving objects:  87% (1605/1844), 10.70 MiB | 21.38 MiB/s   \rReceiving objects:  88% (1623/1844), 10.70 MiB | 21.38 MiB/s   \rReceiving objects:  89% (1642/1844), 10.70 MiB | 21.38 MiB/s   \rReceiving objects:  90% (1660/1844), 10.70 MiB | 21.38 MiB/s   \rReceiving objects:  91% (1679/1844), 10.70 MiB | 21.38 MiB/s   \rReceiving objects:  92% (1697/1844), 10.70 MiB | 21.38 MiB/s   \rReceiving objects:  93% (1715/1844), 10.70 MiB | 21.38 MiB/s   \rReceiving objects:  94% (1734/1844), 10.70 MiB | 21.38 MiB/s   \rReceiving objects:  95% (1752/1844), 10.70 MiB | 21.38 MiB/s   \rReceiving objects:  96% (1771/1844), 10.70 MiB | 21.38 MiB/s   \rReceiving objects:  97% (1789/1844), 10.70 MiB | 21.38 MiB/s   \rremote: Total 1844 (delta 2), reused 0 (delta 0), pack-reused 1836\u001b[K\n",
            "Receiving objects:  98% (1808/1844), 10.70 MiB | 21.38 MiB/s   \rReceiving objects:  99% (1826/1844), 10.70 MiB | 21.38 MiB/s   \rReceiving objects: 100% (1844/1844), 10.70 MiB | 21.38 MiB/s   \rReceiving objects: 100% (1844/1844), 30.95 MiB | 31.95 MiB/s, done.\n",
            "Resolving deltas:   0% (0/211)   \rResolving deltas:   1% (3/211)   \rResolving deltas:   3% (7/211)   \rResolving deltas:   7% (16/211)   \rResolving deltas:   8% (17/211)   \rResolving deltas:   9% (19/211)   \rResolving deltas:  10% (22/211)   \rResolving deltas:  11% (24/211)   \rResolving deltas:  12% (26/211)   \rResolving deltas:  13% (28/211)   \rResolving deltas:  14% (30/211)   \rResolving deltas:  15% (32/211)   \rResolving deltas:  16% (34/211)   \rResolving deltas:  17% (36/211)   \rResolving deltas:  18% (38/211)   \rResolving deltas:  19% (41/211)   \rResolving deltas:  20% (43/211)   \rResolving deltas:  21% (45/211)   \rResolving deltas:  22% (47/211)   \rResolving deltas:  23% (49/211)   \rResolving deltas:  24% (51/211)   \rResolving deltas:  25% (53/211)   \rResolving deltas:  26% (55/211)   \rResolving deltas:  27% (57/211)   \rResolving deltas:  28% (60/211)   \rResolving deltas:  29% (62/211)   \rResolving deltas:  30% (64/211)   \rResolving deltas:  31% (66/211)   \rResolving deltas:  32% (68/211)   \rResolving deltas:  33% (70/211)   \rResolving deltas:  34% (72/211)   \rResolving deltas:  35% (74/211)   \rResolving deltas:  36% (76/211)   \rResolving deltas:  37% (79/211)   \rResolving deltas:  38% (81/211)   \rResolving deltas:  39% (83/211)   \rResolving deltas:  40% (85/211)   \rResolving deltas:  41% (87/211)   \rResolving deltas:  42% (89/211)   \rResolving deltas:  43% (91/211)   \rResolving deltas:  44% (93/211)   \rResolving deltas:  45% (95/211)   \rResolving deltas:  46% (98/211)   \rResolving deltas:  47% (100/211)   \rResolving deltas:  48% (102/211)   \rResolving deltas:  49% (104/211)   \rResolving deltas:  50% (106/211)   \rResolving deltas:  51% (108/211)   \rResolving deltas:  52% (110/211)   \rResolving deltas:  53% (112/211)   \rResolving deltas:  54% (114/211)   \rResolving deltas:  55% (117/211)   \rResolving deltas:  56% (119/211)   \rResolving deltas:  57% (121/211)   \rResolving deltas:  58% (123/211)   \rResolving deltas:  59% (125/211)   \rResolving deltas:  60% (127/211)   \rResolving deltas:  61% (129/211)   \rResolving deltas:  62% (131/211)   \rResolving deltas:  66% (140/211)   \rResolving deltas:  67% (142/211)   \rResolving deltas:  77% (163/211)   \rResolving deltas:  79% (167/211)   \rResolving deltas:  81% (173/211)   \rResolving deltas:  84% (178/211)   \rResolving deltas:  90% (191/211)   \rResolving deltas:  91% (194/211)   \rResolving deltas:  94% (199/211)   \rResolving deltas:  95% (202/211)   \rResolving deltas:  96% (203/211)   \rResolving deltas: 100% (211/211)   \rResolving deltas: 100% (211/211), done.\n"
          ],
          "name": "stdout"
        }
      ]
    },
    {
      "cell_type": "code",
      "metadata": {
        "id": "yWkqwXEKqAsA",
        "colab_type": "code",
        "colab": {
          "base_uri": "https://localhost:8080/",
          "height": 235
        },
        "outputId": "5afe69a1-ecba-4006-a539-aec1f14cc197"
      },
      "source": [
        "!pip install hmmlearn"
      ],
      "execution_count": 3,
      "outputs": [
        {
          "output_type": "stream",
          "text": [
            "Collecting hmmlearn\n",
            "\u001b[?25l  Downloading https://files.pythonhosted.org/packages/d7/c5/91b43156b193d180ed94069269bcf88d3c7c6e54514a8482050fa9995e10/hmmlearn-0.2.2.tar.gz (146kB)\n",
            "\r\u001b[K     |██▎                             | 10kB 17.0MB/s eta 0:00:01\r\u001b[K     |████▌                           | 20kB 2.1MB/s eta 0:00:01\r\u001b[K     |██████▊                         | 30kB 2.7MB/s eta 0:00:01\r\u001b[K     |█████████                       | 40kB 3.1MB/s eta 0:00:01\r\u001b[K     |███████████▏                    | 51kB 2.4MB/s eta 0:00:01\r\u001b[K     |█████████████▍                  | 61kB 2.7MB/s eta 0:00:01\r\u001b[K     |███████████████▊                | 71kB 3.0MB/s eta 0:00:01\r\u001b[K     |██████████████████              | 81kB 3.3MB/s eta 0:00:01\r\u001b[K     |████████████████████▏           | 92kB 3.5MB/s eta 0:00:01\r\u001b[K     |██████████████████████▍         | 102kB 3.3MB/s eta 0:00:01\r\u001b[K     |████████████████████████▋       | 112kB 3.3MB/s eta 0:00:01\r\u001b[K     |██████████████████████████▉     | 122kB 3.3MB/s eta 0:00:01\r\u001b[K     |█████████████████████████████   | 133kB 3.3MB/s eta 0:00:01\r\u001b[K     |███████████████████████████████▍| 143kB 3.3MB/s eta 0:00:01\r\u001b[K     |████████████████████████████████| 153kB 3.3MB/s \n",
            "\u001b[?25hRequirement already satisfied: numpy>=1.10 in /usr/local/lib/python2.7/dist-packages (from hmmlearn) (1.16.4)\n",
            "Requirement already satisfied: scikit-learn>=0.16 in /usr/local/lib/python2.7/dist-packages (from hmmlearn) (0.20.3)\n",
            "Requirement already satisfied: scipy>=0.13.3 in /usr/local/lib/python2.7/dist-packages (from scikit-learn>=0.16->hmmlearn) (1.2.2)\n",
            "Building wheels for collected packages: hmmlearn\n",
            "  Building wheel for hmmlearn (setup.py) ... \u001b[?25l\u001b[?25hdone\n",
            "  Created wheel for hmmlearn: filename=hmmlearn-0.2.2-cp27-cp27mu-linux_x86_64.whl size=189233 sha256=6b4dd21d2e79c5f3040df12e2499a6269524e4e5335e28eb26384b4aee82e9c6\n",
            "  Stored in directory: /root/.cache/pip/wheels/2c/b6/0e/63a865a30e21e01d04f417d8995fbfb793d6bd464707efc546\n",
            "Successfully built hmmlearn\n",
            "Installing collected packages: hmmlearn\n",
            "Successfully installed hmmlearn-0.2.2\n"
          ],
          "name": "stdout"
        }
      ]
    },
    {
      "cell_type": "code",
      "metadata": {
        "id": "oHk2KkCRpmFb",
        "colab_type": "code",
        "colab": {}
      },
      "source": [
        "from hmmlearn import hmm\n",
        "import numpy as np\n",
        "import matplotlib.pyplot as plt"
      ],
      "execution_count": 4,
      "outputs": []
    },
    {
      "cell_type": "code",
      "metadata": {
        "id": "Y8aBgRNepmFh",
        "colab_type": "code",
        "colab": {}
      },
      "source": [
        "data1 = np.loadtxt('ML-based-human-driving-behavior-recognition-and-prediction/data/data-merging/all_trajs_1.txt')\n",
        "data2 = np.loadtxt('ML-based-human-driving-behavior-recognition-and-prediction/data/data-merging/all_trajs_2.txt')\n",
        "len1 = np.loadtxt('ML-based-human-driving-behavior-recognition-and-prediction/data/data-merging/all_trajs_seq_length_1.txt')\n",
        "len2 = np.loadtxt('ML-based-human-driving-behavior-recognition-and-prediction/data/data-merging/all_trajs_seq_length_2.txt')"
      ],
      "execution_count": 7,
      "outputs": []
    },
    {
      "cell_type": "code",
      "metadata": {
        "id": "7_oIcozmpmFl",
        "colab_type": "code",
        "colab": {}
      },
      "source": [
        "hmm_1 = hmm.GaussianHMM(n_components=26, covariance_type=\"full\", n_iter=1000, verbose = True,  algorithm = 'map')\n",
        "hmm_2 = hmm.GaussianHMM(n_components=26, covariance_type=\"full\", n_iter=1000, verbose = True, algorithm = 'map')"
      ],
      "execution_count": 8,
      "outputs": []
    },
    {
      "cell_type": "code",
      "metadata": {
        "id": "6qGDa_SzpmFq",
        "colab_type": "code",
        "colab": {}
      },
      "source": [
        "X1 = data1[0:, [3, 5, 7, 9, 10, 11, 12]]\n",
        "X2 = data2[0:, [3, 5, 7, 9, 10, 11, 12]]\n",
        "len1 = len1.astype(int)\n",
        "len2 = len2.astype(int)"
      ],
      "execution_count": 9,
      "outputs": []
    },
    {
      "cell_type": "code",
      "metadata": {
        "id": "g48DypjUpmFu",
        "colab_type": "code",
        "colab": {
          "base_uri": "https://localhost:8080/",
          "height": 1000
        },
        "outputId": "13eb1518-3d99-48ad-c4f7-bc88b3724bdf"
      },
      "source": [
        "hmm_1.fit(X1, (len1))\n",
        "hmm_2.fit(X2, (len2))"
      ],
      "execution_count": 10,
      "outputs": [
        {
          "output_type": "stream",
          "text": [
            "         1      -47503.7551             +nan\n",
            "         2        4967.9871      +52471.7422\n",
            "         3       18598.3723      +13630.3851\n",
            "         4       26926.7408       +8328.3686\n",
            "         5       32009.9229       +5083.1821\n",
            "         6       34541.5696       +2531.6467\n",
            "         7       36313.0434       +1771.4739\n",
            "         8       37909.4196       +1596.3761\n",
            "         9       38586.8788        +677.4592\n",
            "        10       38819.0421        +232.1633\n",
            "        11       39025.4414        +206.3993\n",
            "        12       39122.1678         +96.7264\n",
            "        13       39222.6185        +100.4508\n",
            "        14       39284.0798         +61.4612\n",
            "        15       39312.1947         +28.1149\n",
            "        16       39329.7752         +17.5805\n",
            "        17       39341.6571         +11.8819\n",
            "        18       39357.5352         +15.8781\n",
            "        19       39373.2869         +15.7517\n",
            "        20       39384.7116         +11.4247\n",
            "        21       39391.8038          +7.0922\n",
            "        22       39397.9495          +6.1457\n",
            "        23       39409.0937         +11.1442\n",
            "        24       39413.7556          +4.6619\n",
            "        25       39415.3243          +1.5687\n",
            "        26       39416.5684          +1.2441\n",
            "        27       39418.3805          +1.8121\n",
            "        28       39420.7416          +2.3610\n",
            "        29       39422.7509          +2.0094\n",
            "        30       39424.3334          +1.5825\n",
            "        31       39428.3808          +4.0474\n",
            "        32       39432.1769          +3.7961\n",
            "        33       39432.5674          +0.3905\n",
            "        34       39432.7296          +0.1622\n",
            "        35       39432.8151          +0.0855\n",
            "        36       39432.8643          +0.0492\n",
            "        37       39432.8942          +0.0298\n",
            "        38       39432.9130          +0.0188\n",
            "        39       39432.9252          +0.0122\n",
            "        40       39432.9334          +0.0082\n",
            "         1      -34889.7742             +nan\n",
            "         2       14197.9057      +49087.6799\n",
            "         3       26783.1254      +12585.2197\n",
            "         4       35034.9410       +8251.8156\n",
            "         5       40335.6531       +5300.7121\n",
            "         6       42841.2856       +2505.6326\n",
            "         7       44329.9225       +1488.6369\n",
            "         8       44923.1365        +593.2140\n",
            "         9       45102.2792        +179.1427\n",
            "        10       45216.6356        +114.3565\n",
            "        11       45297.9949         +81.3593\n",
            "        12       45376.8152         +78.8203\n",
            "        13       45456.4296         +79.6144\n",
            "        14       45541.4106         +84.9810\n",
            "        15       45621.3418         +79.9312\n",
            "        16       45647.2906         +25.9488\n",
            "        17       45664.5920         +17.3014\n",
            "        18       45682.1889         +17.5968\n",
            "        19       45711.7107         +29.5218\n",
            "        20       45746.1689         +34.4583\n",
            "        21       45777.6456         +31.4767\n",
            "        22       45794.8546         +17.2090\n",
            "        23       45814.5160         +19.6615\n",
            "        24       45838.7167         +24.2006\n",
            "        25       45852.1065         +13.3898\n",
            "        26       45862.1950         +10.0885\n",
            "        27       45870.3044          +8.1094\n",
            "        28       45883.3406         +13.0362\n",
            "        29       45892.1380          +8.7974\n",
            "        30       45897.6201          +5.4820\n",
            "        31       45910.0476         +12.4275\n",
            "        32       45933.8925         +23.8450\n",
            "        33       45961.0590         +27.1665\n",
            "        34       45987.1724         +26.1133\n",
            "        35       46044.2914         +57.1190\n",
            "        36       46057.6852         +13.3938\n",
            "        37       46066.0903          +8.4052\n",
            "        38       46079.0990         +13.0087\n",
            "        39       46085.3021          +6.2031\n",
            "        40       46089.4670          +4.1649\n",
            "        41       46097.3210          +7.8540\n",
            "        42       46104.2762          +6.9552\n",
            "        43       46106.1773          +1.9011\n",
            "        44       46111.2068          +5.0295\n",
            "        45       46124.3100         +13.1032\n",
            "        46       46157.8860         +33.5760\n",
            "        47       46183.6991         +25.8131\n",
            "        48       46191.2800          +7.5809\n",
            "        49       46222.3055         +31.0256\n",
            "        50       46237.7109         +15.4054\n",
            "        51       46251.1069         +13.3960\n",
            "        52       46254.4881          +3.3812\n",
            "        53       46256.5915          +2.1033\n",
            "        54       46258.6973          +2.1058\n",
            "        55       46261.6802          +2.9829\n",
            "        56       46264.7164          +3.0363\n",
            "        57       46279.7449         +15.0284\n",
            "        58       46287.2458          +7.5010\n",
            "        59       46296.3731          +9.1273\n",
            "        60       46301.2738          +4.9007\n",
            "        61       46302.9289          +1.6550\n",
            "        62       46303.9561          +1.0272\n",
            "        63       46305.9939          +2.0379\n",
            "        64       46312.6849          +6.6910\n",
            "        65       46319.8655          +7.1806\n",
            "        66       46370.7421         +50.8766\n",
            "        67       46382.1783         +11.4362\n",
            "        68       46386.6966          +4.5183\n",
            "        69       46390.8382          +4.1415\n",
            "        70       46398.5064          +7.6683\n",
            "        71       46406.7591          +8.2527\n",
            "        72       46409.5984          +2.8393\n",
            "        73       46411.1709          +1.5725\n",
            "        74       46412.4519          +1.2809\n",
            "        75       46413.4763          +1.0244\n",
            "        76       46414.2384          +0.7621\n",
            "        77       46414.9625          +0.7240\n",
            "        78       46415.8751          +0.9126\n",
            "        79       46417.2224          +1.3473\n",
            "        80       46419.0046          +1.7822\n",
            "        81       46420.7169          +1.7123\n",
            "        82       46422.2678          +1.5508\n",
            "        83       46422.7200          +0.4523\n",
            "        84       46422.8937          +0.1737\n",
            "        85       46423.0180          +0.1243\n",
            "        86       46430.1070          +7.0890\n",
            "        87       46437.3159          +7.2089\n",
            "        88       46437.8433          +0.5274\n",
            "        89       46437.9514          +0.1081\n",
            "        90       46438.0140          +0.0626\n",
            "        91       46441.1517          +3.1377\n",
            "        92       46457.3913         +16.2395\n",
            "        93       46461.3994          +4.0081\n",
            "        94       46462.7998          +1.4004\n",
            "        95       46466.2017          +3.4018\n",
            "        96       46466.4908          +0.2891\n",
            "        97       46466.5583          +0.0676\n",
            "        98       46466.6003          +0.0419\n",
            "        99       46466.6286          +0.0283\n",
            "       100       46466.6485          +0.0200\n",
            "       101       46466.6631          +0.0146\n",
            "       102       46466.6741          +0.0109\n",
            "       103       46466.6823          +0.0083\n"
          ],
          "name": "stderr"
        },
        {
          "output_type": "execute_result",
          "data": {
            "text/plain": [
              "GaussianHMM(algorithm='map', covariance_type='full', covars_prior=0.01,\n",
              "      covars_weight=1, init_params='stmc', means_prior=0, means_weight=0,\n",
              "      min_covar=0.001, n_components=26, n_iter=1000, params='stmc',\n",
              "      random_state=None, startprob_prior=1.0, tol=0.01, transmat_prior=1.0,\n",
              "      verbose=True)"
            ]
          },
          "metadata": {
            "tags": []
          },
          "execution_count": 10
        }
      ]
    },
    {
      "cell_type": "code",
      "metadata": {
        "id": "H7HCqXEvpmFx",
        "colab_type": "code",
        "colab": {
          "base_uri": "https://localhost:8080/",
          "height": 34
        },
        "outputId": "df064643-285a-49ee-b914-71dec79beded"
      },
      "source": [
        "hmm_2.score(X1[0:len1[0], :])"
      ],
      "execution_count": 11,
      "outputs": [
        {
          "output_type": "execute_result",
          "data": {
            "text/plain": [
              "-1994.9165647355844"
            ]
          },
          "metadata": {
            "tags": []
          },
          "execution_count": 11
        }
      ]
    },
    {
      "cell_type": "code",
      "metadata": {
        "id": "VP2fGxclpmF1",
        "colab_type": "code",
        "colab": {}
      },
      "source": [
        "def calc_like(X1):\n",
        "    score1 = hmm_1.score(X1)\n",
        "    score2 = hmm_2.score(X1)\n",
        "    \n",
        "    score1 = np.exp(score1) / (np.exp(score1) + np.exp(score2))\n",
        "    score2 = 1 - score1\n",
        "    return score1, score2"
      ],
      "execution_count": 12,
      "outputs": []
    },
    {
      "cell_type": "code",
      "metadata": {
        "id": "-yUAt0pspmF5",
        "colab_type": "code",
        "colab": {
          "base_uri": "https://localhost:8080/",
          "height": 34
        },
        "outputId": "497574c9-2e3c-4bc8-a669-8171ec5bed77"
      },
      "source": [
        "N = 100\n",
        "lower = 0\n",
        "test = np.loadtxt('ML-based-human-driving-behavior-recognition-and-prediction/data/data-merging/test.txt')\n",
        "prob = np.zeros((N, 1))\n",
        "X1_0 = test[:, [3, 5, 7, 9, 10, 11, 12]]\n",
        "print (X1_0.shape)\n",
        "for t in range(N):\n",
        "    upper  = lower + 50\n",
        "    X_seq = X1_0[lower:upper, :]\n",
        "    prob[t,:], _ = calc_like(X_seq)\n",
        "    lower += 1"
      ],
      "execution_count": 14,
      "outputs": [
        {
          "output_type": "stream",
          "text": [
            "(164, 7)\n"
          ],
          "name": "stdout"
        }
      ]
    },
    {
      "cell_type": "code",
      "metadata": {
        "id": "4ualrMbjpmF8",
        "colab_type": "code",
        "colab": {
          "base_uri": "https://localhost:8080/",
          "height": 1000
        },
        "outputId": "619ab574-c1b3-4acf-8600-8d0cc5972cfc"
      },
      "source": [
        "prob"
      ],
      "execution_count": 15,
      "outputs": [
        {
          "output_type": "execute_result",
          "data": {
            "text/plain": [
              "array([[4.21001780e-033],\n",
              "       [3.15151196e-035],\n",
              "       [7.91560971e-038],\n",
              "       [9.86721201e-041],\n",
              "       [1.08672463e-043],\n",
              "       [7.83929562e-047],\n",
              "       [2.08330299e-050],\n",
              "       [1.88094392e-054],\n",
              "       [2.86370457e-058],\n",
              "       [4.10691164e-061],\n",
              "       [9.60362248e-064],\n",
              "       [2.69108040e-066],\n",
              "       [9.43304099e-069],\n",
              "       [3.50138413e-071],\n",
              "       [1.39465811e-073],\n",
              "       [5.46345087e-076],\n",
              "       [2.06179424e-078],\n",
              "       [7.14519883e-081],\n",
              "       [2.29746742e-083],\n",
              "       [6.67226665e-086],\n",
              "       [1.87776491e-088],\n",
              "       [4.97799275e-091],\n",
              "       [1.17298172e-093],\n",
              "       [2.33252293e-096],\n",
              "       [3.76463881e-099],\n",
              "       [5.07551246e-102],\n",
              "       [5.33844584e-105],\n",
              "       [4.43456435e-108],\n",
              "       [2.91891491e-111],\n",
              "       [1.62171841e-114],\n",
              "       [7.85794549e-118],\n",
              "       [3.94316110e-121],\n",
              "       [1.98950438e-124],\n",
              "       [1.09154582e-127],\n",
              "       [6.20680176e-131],\n",
              "       [4.09743423e-134],\n",
              "       [1.12081218e-135],\n",
              "       [4.71049710e-139],\n",
              "       [5.65951125e-146],\n",
              "       [4.45670161e-152],\n",
              "       [3.91254753e-156],\n",
              "       [6.43032842e-160],\n",
              "       [1.00751256e-163],\n",
              "       [1.51855558e-167],\n",
              "       [1.86400286e-171],\n",
              "       [2.08816612e-175],\n",
              "       [3.76337795e-179],\n",
              "       [2.56491231e-182],\n",
              "       [7.40935330e-185],\n",
              "       [1.34091732e-186],\n",
              "       [1.28832503e-187],\n",
              "       [2.40803446e-188],\n",
              "       [5.55731852e-189],\n",
              "       [1.32828014e-189],\n",
              "       [2.43036437e-190],\n",
              "       [3.13278529e-191],\n",
              "       [2.62429500e-192],\n",
              "       [1.32613240e-193],\n",
              "       [4.39715714e-195],\n",
              "       [9.87635951e-197],\n",
              "       [1.71643600e-198],\n",
              "       [2.44503324e-200],\n",
              "       [3.33587027e-202],\n",
              "       [4.26517644e-204],\n",
              "       [3.74765445e-206],\n",
              "       [8.68484209e-209],\n",
              "       [6.55406445e-212],\n",
              "       [2.98722105e-215],\n",
              "       [1.02306757e-218],\n",
              "       [2.62092955e-222],\n",
              "       [5.17463861e-226],\n",
              "       [9.24621323e-230],\n",
              "       [1.49708830e-233],\n",
              "       [2.18550948e-237],\n",
              "       [2.88697685e-241],\n",
              "       [3.20753198e-245],\n",
              "       [3.12263046e-249],\n",
              "       [3.01691132e-253],\n",
              "       [2.66392788e-257],\n",
              "       [2.15602376e-261],\n",
              "       [1.69185901e-265],\n",
              "       [1.23764567e-269],\n",
              "       [4.13359880e-275],\n",
              "       [1.58087442e-280],\n",
              "       [2.12329158e-284],\n",
              "       [7.17184953e-289],\n",
              "       [6.07060308e-293],\n",
              "       [5.50829904e-296],\n",
              "       [3.14986493e-299],\n",
              "       [6.54195082e-303],\n",
              "       [6.15681399e-307],\n",
              "       [3.98445617e-311],\n",
              "       [2.00290110e-315],\n",
              "       [1.01436618e-319],\n",
              "       [9.88131292e-324],\n",
              "       [0.00000000e+000],\n",
              "       [0.00000000e+000],\n",
              "       [0.00000000e+000],\n",
              "       [0.00000000e+000],\n",
              "       [0.00000000e+000]])"
            ]
          },
          "metadata": {
            "tags": []
          },
          "execution_count": 15
        }
      ]
    },
    {
      "cell_type": "code",
      "metadata": {
        "id": "JWg6V84WpmF-",
        "colab_type": "code",
        "colab": {
          "base_uri": "https://localhost:8080/",
          "height": 286
        },
        "outputId": "2601270f-2e68-44e2-d59c-bffdfb232bca"
      },
      "source": [
        "print(prob.shape)\n",
        "plt.plot(1 - prob)\n",
        "plt.show()"
      ],
      "execution_count": 16,
      "outputs": [
        {
          "output_type": "stream",
          "text": [
            "(100, 1)\n"
          ],
          "name": "stdout"
        },
        {
          "output_type": "display_data",
          "data": {
            "image/png": "[encoded data removed]",
            "text/plain": [
              "<Figure size 432x288 with 1 Axes>"
            ]
          },
          "metadata": {
            "tags": [],
            "needs_background": "light"
          }
        }
      ]
    },
    {
      "cell_type": "code",
      "metadata": {
        "id": "gZPC3pVWpmGB",
        "colab_type": "code",
        "colab": {
          "base_uri": "https://localhost:8080/",
          "height": 84
        },
        "outputId": "ad7a9946-a50b-41f1-d3db-3b3fc6fbe5af"
      },
      "source": [
        "data1[0, :]"
      ],
      "execution_count": 17,
      "outputs": [
        {
          "output_type": "execute_result",
          "data": {
            "text/plain": [
              "array([ 0.000000e+00,  0.000000e+00, -6.442328e+02,  1.161000e+01,\n",
              "       -6.075912e+02, -2.900000e-03, -6.628693e+02,  1.128200e+01,\n",
              "       -6.156460e+02,  4.350000e-02, -3.280000e-01, -8.054800e+00,\n",
              "       -1.863650e+01,  7.058000e-01,  7.058000e-01,  0.000000e+00])"
            ]
          },
          "metadata": {
            "tags": []
          },
          "execution_count": 17
        }
      ]
    },
    {
      "cell_type": "code",
      "metadata": {
        "id": "_N4wmy0Jq41a",
        "colab_type": "code",
        "colab": {}
      },
      "source": [
        ""
      ],
      "execution_count": null,
      "outputs": []
    }
  ]
}